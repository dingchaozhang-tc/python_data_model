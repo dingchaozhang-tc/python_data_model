{
 "cells": [
  {
   "cell_type": "markdown",
   "metadata": {},
   "source": [
    "## What is Python Data Model?\n",
    "*We can think of data model as a description of Python as a framework.It formalizes the interfaces of the building blocks of the language itself.We can see Python’s data model as a powerful API you can interface with by implementing one or more dunder methods.  --  Luciano Ramalho, Fluent Python*\n",
    "\n",
    "If we want to write more Pythonic code, knowing how and when to use special methods is an important step.\n",
    "\n",
    "Special(Magic/dunder) methods are part of Python Data Model, the special methods are a set of predefined methods you can use to enrich your classes. They are easy to recognize because they start and end with double underscores, for example __init__ or __str_. Special methods allow us to make any customed class more Pythonic!\n",
    "\n",
    "Let's demonstrate the power of special methods by implementing a simple Card Deck Class."
   ]
  },
  {
   "cell_type": "code",
   "execution_count": null,
   "metadata": {},
   "outputs": [],
   "source": [
    "import collections\n",
    "from random import choice, shuffle\n",
    "\n",
    "\n",
    "Card = collections.namedtuple('Card','rank suit')\n",
    "\n",
    "class FrenchDeck:\n",
    "    \n",
    "    ranks = [str(n) for n in range(2,11)]+list('JQKA')\n",
    "    suits = 'spades diamonds clubs hearts'.split()\n",
    "    \n",
    "    def __init__(self):\n",
    "        self._cards = [Card(rank,suit)for suit in self.suits for rank in self.ranks]  \n",
    "\n",
    "deck = FrenchDeck()"
   ]
  },
  {
   "cell_type": "markdown",
   "metadata": {},
   "source": [
    "The FrenchDeck class has two class properties ranks: 2, 3,4 till JQKA and suits: spades, diamonds, clubs, hearts. We use namedtuple to construct a simple class to represent invidual cards as following:"
   ]
  },
  {
   "cell_type": "code",
   "execution_count": null,
   "metadata": {},
   "outputs": [],
   "source": [
    "Card('7','diamonds')"
   ]
  },
  {
   "cell_type": "markdown",
   "metadata": {},
   "source": [
    "The deck is an instance of our customed class"
   ]
  },
  {
   "cell_type": "code",
   "execution_count": null,
   "metadata": {},
   "outputs": [],
   "source": [
    "type(deck)"
   ]
  },
  {
   "cell_type": "markdown",
   "metadata": {},
   "source": [
    "The content of the deck object is a list of tuples"
   ]
  },
  {
   "cell_type": "code",
   "execution_count": null,
   "metadata": {},
   "outputs": [],
   "source": [
    "deck._cards"
   ]
  },
  {
   "cell_type": "markdown",
   "metadata": {},
   "source": [
    "The point of this example is the FrenchDeck class, the deck object contains a list tuples, can we perform common list operations on our created object like a regular python list?\n",
    "\n",
    "Common operations on a Python list:\n",
    "- print\n",
    "- len\n",
    "- selection\n",
    "- slicing\n",
    "- sorting\n",
    "- random selection\n",
    "- random shuffle"
   ]
  },
  {
   "cell_type": "code",
   "execution_count": null,
   "metadata": {},
   "outputs": [],
   "source": [
    "print(deck)"
   ]
  },
  {
   "cell_type": "code",
   "execution_count": null,
   "metadata": {},
   "outputs": [],
   "source": [
    "len(deck)"
   ]
  },
  {
   "cell_type": "code",
   "execution_count": null,
   "metadata": {},
   "outputs": [],
   "source": [
    "deck[0]"
   ]
  },
  {
   "cell_type": "code",
   "execution_count": null,
   "metadata": {},
   "outputs": [],
   "source": [
    "sorted(deck)"
   ]
  },
  {
   "cell_type": "code",
   "execution_count": null,
   "metadata": {},
   "outputs": [],
   "source": [
    "for d in deck:\n",
    "    print(d)"
   ]
  },
  {
   "cell_type": "code",
   "execution_count": null,
   "metadata": {},
   "outputs": [],
   "source": [
    "shuffle(deck)"
   ]
  },
  {
   "cell_type": "markdown",
   "metadata": {},
   "source": [
    "In contrast, let's craete a object of standard python list type"
   ]
  },
  {
   "cell_type": "code",
   "execution_count": null,
   "metadata": {},
   "outputs": [],
   "source": [
    "demo_list = [tuple([i,j]) for i,j in zip(range(10),'abcdefghijk')]\n",
    "\n",
    "common_operations_check(demo_list,(0, 'a'))"
   ]
  },
  {
   "cell_type": "code",
   "execution_count": null,
   "metadata": {},
   "outputs": [],
   "source": [
    "demo_list"
   ]
  },
  {
   "cell_type": "markdown",
   "metadata": {},
   "source": [
    "We see that we are able to do print, selection, sorting, shuffle fine in this demo_list."
   ]
  },
  {
   "cell_type": "code",
   "execution_count": null,
   "metadata": {},
   "outputs": [],
   "source": [
    "print (demo_list)"
   ]
  },
  {
   "cell_type": "code",
   "execution_count": null,
   "metadata": {},
   "outputs": [],
   "source": [
    "len(demo_list)"
   ]
  },
  {
   "cell_type": "code",
   "execution_count": null,
   "metadata": {},
   "outputs": [],
   "source": [
    "demo_list[:2]"
   ]
  },
  {
   "cell_type": "code",
   "execution_count": null,
   "metadata": {},
   "outputs": [],
   "source": [
    "shuffle(demo_list)"
   ]
  },
  {
   "cell_type": "markdown",
   "metadata": {},
   "source": [
    "The goal is to enable our FrenchDeck class to be able to emulates the above standard python operations.\n",
    "\n",
    "We write the following functions to check if a python collection object like deck emulates the behavior of built-in types."
   ]
  },
  {
   "cell_type": "code",
   "execution_count": null,
   "metadata": {},
   "outputs": [],
   "source": [
    "import inspect,re\n",
    "from IPython.display import Markdown\n",
    "\n",
    "def red_print(message):\n",
    "    display (Markdown('<span style=\"color: #ff0000\">'+message+'</span>'))\n",
    "\n",
    "\n",
    "def safe_run(func):\n",
    "    def func_wrapper(*args, **kwargs):\n",
    "        func_name = str(inspect.stack()[1].code_context[0]).replace('\\n','')\n",
    "        try:\n",
    "            print (func_name)\n",
    "            return func(*args, **kwargs)\n",
    "        except Exception as e:\n",
    "            fail_message = 'failed'\n",
    "            red_print(fail_message+str(e))\n",
    "            return None\n",
    "    return func_wrapper\n",
    "\n",
    "\n",
    "@safe_run\n",
    "def len_check(deck):\n",
    "    print(len(deck))\n",
    "\n",
    "@safe_run\n",
    "def selection_check(deck):\n",
    "    print(deck[0])\n",
    "    \n",
    "@safe_run\n",
    "def slicing_check(deck):\n",
    "    print(deck[::2])\n",
    "    \n",
    "@safe_run\n",
    "def isin_check(deck,instance):\n",
    "    print(instance in deck)\n",
    "    \n",
    "@safe_run\n",
    "def sort_check(deck):\n",
    "    print(sorted(deck))\n",
    "    \n",
    "@safe_run \n",
    "def forloop_check(deck):\n",
    "     for i in deck:\n",
    "        print (i)\n",
    "        \n",
    "@safe_run    \n",
    "def choice_check(deck):\n",
    "    print (choice(deck))\n",
    "    \n",
    "@safe_run    \n",
    "def shuffle_check(deck):\n",
    "    shuffle(deck)\n",
    "    print (deck)\n",
    "        \n",
    "def common_operations_check(deck,instance):\n",
    "    \n",
    "    print(deck,'\\n')\n",
    "    len_check(deck) \n",
    "    selection_check(deck)\n",
    "    isin_check(deck,instance)\n",
    "    sort_check(deck)\n",
    "    forloop_check(deck)\n",
    "    choice_check(deck)\n",
    "    shuffle_check(deck)\n"
   ]
  },
  {
   "cell_type": "markdown",
   "metadata": {},
   "source": [
    "Let's try to apply common operations on a built-in list."
   ]
  },
  {
   "cell_type": "code",
   "execution_count": null,
   "metadata": {},
   "outputs": [],
   "source": [
    "common_operations_check(demo_list,(4, 'e'))"
   ]
  },
  {
   "cell_type": "markdown",
   "metadata": {},
   "source": [
    "Next let's try to perform above operations on the deck object"
   ]
  },
  {
   "cell_type": "code",
   "execution_count": null,
   "metadata": {},
   "outputs": [],
   "source": [
    "common_operations_check(deck,Card('Q','hearts'))"
   ]
  },
  {
   "cell_type": "markdown",
   "metadata": {},
   "source": [
    "### Lots of failures!! \n",
    "Before using special methods to resolve the failures, let's look at an Bad example of implementing common methods in customed class"
   ]
  },
  {
   "cell_type": "code",
   "execution_count": null,
   "metadata": {},
   "outputs": [],
   "source": [
    "class BadFrenchDeck:\n",
    "    \n",
    "    ranks = [str(n) for n in range(2,11)]+list('JQKA')\n",
    "    suits = 'spades diamonds clubs hearts'.split()\n",
    "    \n",
    "    def __init__(self):\n",
    "        self._cards = [Card(rank,suit)for suit in self.suits for rank in self.ranks]  \n",
    "    \n",
    "    def show(self):\n",
    "        return 'FrenchDeck(%r)'%(self._cards)\n",
    "    \n",
    "    def length(self):\n",
    "        return len(self._cards)\n",
    "    \n",
    "    def selection(self,index):\n",
    "        return (self._cards[index])\n",
    "    \n",
    "    def slicing(self,indices):\n",
    "        return (self._cards[indices])\n",
    "    \n",
    "    def deck_sort(self):\n",
    "        return sorted(self._cards)\n",
    "    \n",
    "    def is_in_deck(self, instance):\n",
    "        return instance in self._cards\n",
    "        \n",
    "    \n",
    "    ### shuffle, random choice ? \n",
    "    \n",
    "baddeck = BadFrenchDeck()\n",
    "print (baddeck.show())\n",
    "print (baddeck.length())\n",
    "print (baddeck.selection(1))\n",
    "baddeck.deck_sort()\n",
    "print (baddeck.is_in_deck(Card(rank='2', suit='spades')))"
   ]
  },
  {
   "cell_type": "markdown",
   "metadata": {},
   "source": [
    "## What are the problems of the above approaches??\n",
    "\n",
    "- the users of your class have to memorize arbitary method names for standard operations(\"how to get the numbers of items?) is it .size(), .length() or what? \n",
    "- recreating wheels: lots of work and hacks"
   ]
  },
  {
   "cell_type": "markdown",
   "metadata": {},
   "source": [
    "## Python Data Model Approach\n",
    "While coding with any framework, you spend lots of time implementing methods that are called by the framework. The same happens when we leverage the python data model, the python interpreter invokes special methods to perform basic object operations, often triggered by special syntax.\n",
    "\n",
    "The special method names are always written with leading and trailing double underscores(i.e.,__getitem__). the syntax object[key] is supported by the __getitem__ special method, in order to evaluate my_collection[key], the interpreter calls my_collection.__getitem__(key).\n",
    "### special method1: object.__ repr __ "
   ]
  },
  {
   "cell_type": "code",
   "execution_count": null,
   "metadata": {},
   "outputs": [],
   "source": [
    "Card = collections.namedtuple('Card','rank suit')\n",
    "\n",
    "class FrenchDeck:\n",
    "    \n",
    "    ranks = [str(n) for n in range(2,11)]+list('JQKA')\n",
    "    suits = 'spades diamonds clubs hearts'.split()\n",
    "    \n",
    "    def __init__(self):\n",
    "        self._cards = [Card(rank,suit)for suit in self.suits for rank in self.ranks]  \n",
    "    \n",
    "    def __repr__(self):\n",
    "        return 'FrenchDeck(%r)'%(self._cards)\n",
    "    \n",
    "\n",
    "    \n",
    "deck = FrenchDeck()\n",
    "common_operations_check(deck,Card('Q','hearts'))"
   ]
  },
  {
   "cell_type": "markdown",
   "metadata": {},
   "source": [
    "Called by the repr() built-in function to compute official string representation of an object. If at all possible, this should look like a valid Python expression that could be used to recreate an object with the same value. Another similar special method is object.__str__. The default implementation defined by the built-in type object calls object.__repr__().\n",
    "tr() is used for creating output for end user while repr() is mainly used for debugging and development. repr’s goal is to be unambiguous and str’s is to be readable. For example, if we suspect a float has a small rounding error, repr will show us while str may not.\n"
   ]
  },
  {
   "cell_type": "markdown",
   "metadata": {},
   "source": [
    "### special method2: object.__ len __ "
   ]
  },
  {
   "cell_type": "code",
   "execution_count": null,
   "metadata": {},
   "outputs": [],
   "source": [
    "Card = collections.namedtuple('Card','rank suit')\n",
    "\n",
    "class FrenchDeck:\n",
    "    \n",
    "    ranks = [str(n) for n in range(2,11)]+list('JQKA')\n",
    "    suits = 'spades diamonds clubs hearts'.split()\n",
    "    \n",
    "    def __init__(self):\n",
    "        self._cards = [Card(rank,suit)for suit in self.suits for rank in self.ranks]  \n",
    "    \n",
    "    def __repr__(self):\n",
    "        return 'FrenchDeck(%r)'%(self._cards)\n",
    "    \n",
    "    def __len__(self):\n",
    "        return len(self._cards)\n",
    "    \n",
    "deck = FrenchDeck()\n",
    "common_operations_check(deck,Card('Q','hearts'))\n",
    "    "
   ]
  },
  {
   "cell_type": "markdown",
   "metadata": {},
   "source": [
    "### Why len is not a mehod?\n",
    "IF you learnt another OO language before Python, you may have found it strange to use len(collection) instead of collection.len().\n",
    "\n",
    "Let's look at Cpython source code\n",
    "\n",
    "https://github.com/python/cpython/blob/92c7e30adf5c81a54d6e5e555a6bdfaa60157a0d/Python/bltinmodule.c#L1536-L1556\n",
    "\n",
    "and definition of PyObject in c-api documention:\n",
    "https://docs.python.org/3/c-api/structures.html#c.PyObject\n",
    "\n",
    "No method is called for the built-in objects of CPython: the length is simply read from a field in C struct. len() is not called as a special method because it gets special treatment as part of Python Data Model, just like abs. Thanks for the special method __ len __,we can make len work with our own custom objects."
   ]
  },
  {
   "cell_type": "markdown",
   "metadata": {},
   "source": [
    "We have just seen two advantages of using special methods to leverage the Python data model: 1. the users of your class don't have to memorize arbitary method names for standard operations(\"how to get the numbers of items?) is it .size(), .length() or what? 2. it is easier to benefit from the rich python standard library and avoid reinventing the wheel, like th random.choice function. It gets better, since our __getitem__ delegates to the [] operator of self._cards, our deck automatically support slicing."
   ]
  },
  {
   "cell_type": "markdown",
   "metadata": {},
   "source": [
    "### special method3: object.__ getitem __ "
   ]
  },
  {
   "cell_type": "code",
   "execution_count": null,
   "metadata": {},
   "outputs": [],
   "source": [
    "Card = collections.namedtuple('Card','rank suit')\n",
    "\n",
    "class FrenchDeck:\n",
    "    \n",
    "    ranks = [str(n) for n in range(2,11)]+list('JQKA')\n",
    "    suits = 'spades diamonds clubs hearts'.split()\n",
    "    \n",
    "    def __init__(self):\n",
    "        self._cards = [Card(rank,suit)for suit in self.suits for rank in self.ranks]  \n",
    "    \n",
    "    def __repr__(self):\n",
    "        return 'FrenchDeck(%r)'%(self._cards)\n",
    "    \n",
    "    def __len__(self):\n",
    "        return len(self._cards)\n",
    "    \n",
    "    def __getitem__(self,position):\n",
    "        return self._cards[position]\n",
    "    \n",
    "    \n",
    "deck = FrenchDeck()\n",
    "common_operations_check(deck,Card('Q','hearts'))"
   ]
  },
  {
   "cell_type": "code",
   "execution_count": null,
   "metadata": {},
   "outputs": [],
   "source": [
    "deck[::2]"
   ]
  },
  {
   "cell_type": "code",
   "execution_count": null,
   "metadata": {},
   "outputs": [],
   "source": [
    "for d in deck:\n",
    "    print (d)"
   ]
  },
  {
   "cell_type": "markdown",
   "metadata": {},
   "source": [
    "object.__getitem__(self, key):\n",
    "Called to implement evaluation of self[key]. For sequence types, the accepted keys should be integers and slice objects. Note that the special interpretation of negative indexes (if the class wishes to emulate a sequence type) is up to the __getitem__() method. \n",
    "\n",
    "iter():\n",
    "Return an iterator object. The first argument is interpreted very differently depending on the presence of the second argument. Without a second argument, object must be a collection object which supports the iteration protocol (the __iter__() method), or it must support the sequence protocol (the __getitem__() method with integer arguments starting at 0). If it does not support either of those protocols, TypeError is raised."
   ]
  },
  {
   "cell_type": "markdown",
   "metadata": {},
   "source": [
    "### special method4: object.__ setitem __ "
   ]
  },
  {
   "cell_type": "code",
   "execution_count": null,
   "metadata": {},
   "outputs": [],
   "source": [
    "Card = collections.namedtuple('Card','rank suit')\n",
    "\n",
    "class FrenchDeck:\n",
    "    \n",
    "    ranks = [str(n) for n in range(2,11)]+list('JQKA')\n",
    "    suits = 'spades diamonds clubs hearts'.split()\n",
    "    \n",
    "    def __init__(self):\n",
    "        self._cards = [Card(rank,suit)for suit in self.suits for rank in self.ranks]  \n",
    "    \n",
    "    def __repr__(self):\n",
    "        return 'FrenchDeck(%r)'%(self._cards)\n",
    "    \n",
    "    def __len__(self):\n",
    "        return len(self._cards)\n",
    "    \n",
    "    def __getitem__(self,position):\n",
    "        return self._cards[position]\n",
    "    \n",
    "    def __setitem__(self, key, value):\n",
    "        self._cards[key] = value\n",
    "        \n",
    "deck = FrenchDeck()\n",
    "common_operations_check(deck,Card('Q','hearts'))"
   ]
  },
  {
   "cell_type": "code",
   "execution_count": null,
   "metadata": {},
   "outputs": [],
   "source": [
    "deck[:2]"
   ]
  },
  {
   "cell_type": "code",
   "execution_count": null,
   "metadata": {},
   "outputs": [],
   "source": [
    "sorted(deck)"
   ]
  },
  {
   "cell_type": "markdown",
   "metadata": {},
   "source": [
    "object.__setitem__(self, key, value)¶\n",
    "Called to implement assignment to self[key]. Same note as for __getitem__(). This should only be implemented for mappings if the objects support changes to the values for keys, or if new keys can be added, or for sequences if elements can be replaced. The same exceptions should be raised for improper key values as for the __getitem__() method.\n",
    "\n",
    "reversed(seq)\n",
    "Return a reverse iterator. seq must be an object which has a __reversed__() method or supports the sequence protocol (the __len__() method and the __getitem__() method with integer arguments starting at 0)."
   ]
  },
  {
   "cell_type": "code",
   "execution_count": null,
   "metadata": {},
   "outputs": [],
   "source": [
    "shuffle(deck)"
   ]
  },
  {
   "cell_type": "code",
   "execution_count": null,
   "metadata": {},
   "outputs": [],
   "source": [
    "deck"
   ]
  },
  {
   "cell_type": "code",
   "execution_count": null,
   "metadata": {},
   "outputs": [],
   "source": [
    "for card in reversed(deck[:5]):\n",
    "    print (card)"
   ]
  },
  {
   "cell_type": "markdown",
   "metadata": {},
   "source": [
    "Python Data Model Lego Block Illustration\n",
    "\n",
    "Without Special Methods\n",
    "<img src=\"no_fit.png\">"
   ]
  },
  {
   "cell_type": "markdown",
   "metadata": {},
   "source": [
    "With special methods\n",
    "<img src=\"data_model.png\">"
   ]
  },
  {
   "cell_type": "markdown",
   "metadata": {},
   "source": [
    "## Summary\n",
    "By implmenting special methods len and getitem, our frenchdeck behaves like a standard python sequence, allowing it to benefit from core language features e.g. iteration and slicing from standard library: random.choice, reversed, sorted.\n",
    "\n",
    "### 1. Implementing special/dunder methods to make objects behave like the built-in types, rather than reinvieting wheels\n",
    "\n",
    "### 2. Special methods allow objects to benefit from the rich Python standard library\n",
    "\n",
    "### 3. Special Methods are not meant to be called directly, use built-in functions instead\n",
    "- Special methods are used is that they are meant to be called by the python interpreter, not by us, unless we are doing metaprogramming, the only special method that is frequently called by user code directly is __init__, to invoke the superclass in your own __init__ implementation. We don't write my_object.__len__(). we write len(my_object), and if my_object is an instance of a user-defined class, then Python calls the __len__ instance method we implemented.\n",
    "- These built-ins call the corresponding special method, and interpreter takes a shortcut: the cpython implementation of len() actually returns the value of the ob_size field in PyVarObject C struct that represents any variable-sized built-in object in memory, this is much faster than calling a method.\n",
    "- The special method call is implicit, for example, the statement for i in x: actually causes the invocations of iter(x), which in turn may call x.__iter__() if that is available. If we need to invoke a special method, it is usually better to call the related built-in function(e.g,; len, iter, str,etc).\n",
    "   "
   ]
  },
  {
   "cell_type": "markdown",
   "metadata": {},
   "source": [
    "built-in function invokes  special method\n",
    "    repr()         -->     __repr__ ;\n",
    "    str()          -->     __str__ ;\n",
    "    len()          -->     __len__ ;\n",
    "    iter()         -->     __getitem__ or __iter__ ;\n",
    "    reversed()     -->     __reversed__ or (__len__ and __getitem__) ;\n",
    "    self[key]      -->     __getitem__ (evaluation) ;\n",
    "    self[key]      -->     __setitem__ (assignment) ;"
   ]
  },
  {
   "cell_type": "markdown",
   "metadata": {},
   "source": [
    "Further reading\n",
    "The data model of Python Language Refendce is the canonical source:\n",
    "https://docs.python.org/3/reference/datamodel.html\n"
   ]
  }
 ],
 "metadata": {
  "kernelspec": {
   "display_name": "Python 3",
   "language": "python",
   "name": "python3"
  },
  "language_info": {
   "codemirror_mode": {
    "name": "ipython",
    "version": 3
   },
   "file_extension": ".py",
   "mimetype": "text/x-python",
   "name": "python",
   "nbconvert_exporter": "python",
   "pygments_lexer": "ipython3",
   "version": "3.7.3"
  }
 },
 "nbformat": 4,
 "nbformat_minor": 2
}
